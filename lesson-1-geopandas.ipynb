{
 "cells": [
  {
   "cell_type": "markdown",
   "id": "f9bfda7b-d4ff-4f8c-ab61-2b31f7aac569",
   "metadata": {},
   "source": [
    "# Intro to geopandas\n",
    "\n",
    "GeoPandas is a Python library for geospatial data. \n",
    "\n",
    "Import it with its standard abbreviation:"
   ]
  },
  {
   "cell_type": "code",
   "execution_count": 2,
   "id": "91d1aff0-a3a4-4405-8af7-f9767b356bc4",
   "metadata": {
    "tags": []
   },
   "outputs": [],
   "source": [
    "# this is the library we will explore\n",
    "import geopandas as gpd\n",
    "\n",
    "# will use for making map\n",
    "# not importing full library\n",
    "import matplotlib.pyplot as plt"
   ]
  },
  {
   "cell_type": "markdown",
   "id": "51b799e0-3852-4ce1-9b7e-ab84418fc786",
   "metadata": {},
   "source": [
    "## Data \n",
    "\n",
    "We will use simplified data about wild pig (*Sus scrofa*) sightings in CA.\n",
    "Data is from Global Biodiversity Information Facility (GBIF). \n",
    "\n",
    "Read in the shapefile using the `geopandas` function `gpd.read_file()`:"
   ]
  },
  {
   "cell_type": "code",
   "execution_count": 4,
   "id": "528125b4-fa69-4174-9322-430e2d960867",
   "metadata": {
    "tags": []
   },
   "outputs": [
    {
     "data": {
      "text/html": [
       "<div>\n",
       "<style scoped>\n",
       "    .dataframe tbody tr th:only-of-type {\n",
       "        vertical-align: middle;\n",
       "    }\n",
       "\n",
       "    .dataframe tbody tr th {\n",
       "        vertical-align: top;\n",
       "    }\n",
       "\n",
       "    .dataframe thead th {\n",
       "        text-align: right;\n",
       "    }\n",
       "</style>\n",
       "<table border=\"1\" class=\"dataframe\">\n",
       "  <thead>\n",
       "    <tr style=\"text-align: right;\">\n",
       "      <th></th>\n",
       "      <th>gbifID</th>\n",
       "      <th>species</th>\n",
       "      <th>state</th>\n",
       "      <th>individual</th>\n",
       "      <th>day</th>\n",
       "      <th>month</th>\n",
       "      <th>year</th>\n",
       "      <th>inst</th>\n",
       "      <th>collection</th>\n",
       "      <th>catalogNum</th>\n",
       "      <th>identified</th>\n",
       "      <th>geometry</th>\n",
       "    </tr>\n",
       "  </thead>\n",
       "  <tbody>\n",
       "    <tr>\n",
       "      <th>0</th>\n",
       "      <td>899953814</td>\n",
       "      <td>Sus scrofa</td>\n",
       "      <td>California</td>\n",
       "      <td>NaN</td>\n",
       "      <td>22.0</td>\n",
       "      <td>3.0</td>\n",
       "      <td>2014.0</td>\n",
       "      <td>iNaturalist</td>\n",
       "      <td>Observations</td>\n",
       "      <td>581956</td>\n",
       "      <td>edwardrooks</td>\n",
       "      <td>POINT (-121.53812 37.08846)</td>\n",
       "    </tr>\n",
       "    <tr>\n",
       "      <th>1</th>\n",
       "      <td>899951348</td>\n",
       "      <td>Sus scrofa</td>\n",
       "      <td>California</td>\n",
       "      <td>NaN</td>\n",
       "      <td>9.0</td>\n",
       "      <td>6.0</td>\n",
       "      <td>2007.0</td>\n",
       "      <td>iNaturalist</td>\n",
       "      <td>Observations</td>\n",
       "      <td>576047</td>\n",
       "      <td>Bruce Freeman</td>\n",
       "      <td>POINT (-120.54942 35.47354)</td>\n",
       "    </tr>\n",
       "    <tr>\n",
       "      <th>2</th>\n",
       "      <td>896560733</td>\n",
       "      <td>Sus scrofa</td>\n",
       "      <td>California</td>\n",
       "      <td>NaN</td>\n",
       "      <td>20.0</td>\n",
       "      <td>12.0</td>\n",
       "      <td>1937.0</td>\n",
       "      <td>MVZ</td>\n",
       "      <td>Hild</td>\n",
       "      <td>MVZ:Hild:195</td>\n",
       "      <td>Museum of Vertebrate Zoology, University of Ca...</td>\n",
       "      <td>POINT (-122.27063 37.87610)</td>\n",
       "    </tr>\n",
       "    <tr>\n",
       "      <th>3</th>\n",
       "      <td>896559958</td>\n",
       "      <td>Sus scrofa</td>\n",
       "      <td>California</td>\n",
       "      <td>NaN</td>\n",
       "      <td>1.0</td>\n",
       "      <td>4.0</td>\n",
       "      <td>1969.0</td>\n",
       "      <td>MVZ</td>\n",
       "      <td>Hild</td>\n",
       "      <td>MVZ:Hild:1213</td>\n",
       "      <td>Museum of Vertebrate Zoology, University of Ca...</td>\n",
       "      <td>POINT (-121.82297 38.44543)</td>\n",
       "    </tr>\n",
       "    <tr>\n",
       "      <th>4</th>\n",
       "      <td>896559722</td>\n",
       "      <td>Sus scrofa</td>\n",
       "      <td>California</td>\n",
       "      <td>NaN</td>\n",
       "      <td>1.0</td>\n",
       "      <td>1.0</td>\n",
       "      <td>1961.0</td>\n",
       "      <td>MVZ</td>\n",
       "      <td>Hild</td>\n",
       "      <td>MVZ:Hild:1004</td>\n",
       "      <td>Museum of Vertebrate Zoology, University of Ca...</td>\n",
       "      <td>POINT (-121.74559 38.54882)</td>\n",
       "    </tr>\n",
       "  </tbody>\n",
       "</table>\n",
       "</div>"
      ],
      "text/plain": [
       "      gbifID     species       state  individual   day  month    year  \\\n",
       "0  899953814  Sus scrofa  California         NaN  22.0    3.0  2014.0   \n",
       "1  899951348  Sus scrofa  California         NaN   9.0    6.0  2007.0   \n",
       "2  896560733  Sus scrofa  California         NaN  20.0   12.0  1937.0   \n",
       "3  896559958  Sus scrofa  California         NaN   1.0    4.0  1969.0   \n",
       "4  896559722  Sus scrofa  California         NaN   1.0    1.0  1961.0   \n",
       "\n",
       "          inst    collection     catalogNum  \\\n",
       "0  iNaturalist  Observations         581956   \n",
       "1  iNaturalist  Observations         576047   \n",
       "2          MVZ          Hild   MVZ:Hild:195   \n",
       "3          MVZ          Hild  MVZ:Hild:1213   \n",
       "4          MVZ          Hild  MVZ:Hild:1004   \n",
       "\n",
       "                                          identified  \\\n",
       "0                                        edwardrooks   \n",
       "1                                      Bruce Freeman   \n",
       "2  Museum of Vertebrate Zoology, University of Ca...   \n",
       "3  Museum of Vertebrate Zoology, University of Ca...   \n",
       "4  Museum of Vertebrate Zoology, University of Ca...   \n",
       "\n",
       "                      geometry  \n",
       "0  POINT (-121.53812 37.08846)  \n",
       "1  POINT (-120.54942 35.47354)  \n",
       "2  POINT (-122.27063 37.87610)  \n",
       "3  POINT (-121.82297 38.44543)  \n",
       "4  POINT (-121.74559 38.54882)  "
      ]
     },
     "execution_count": 4,
     "metadata": {},
     "output_type": "execute_result"
    }
   ],
   "source": [
    "# read in data\n",
    "pigs = gpd.read_file('data/gbif_sus_scroga_california/gbif_sus_scroga_california.shp')\n",
    "\n",
    "pigs.head()"
   ]
  },
  {
   "cell_type": "markdown",
   "id": "d292111f-fcbf-4ba7-9d1c-ce21470ef599",
   "metadata": {},
   "source": [
    "## `Geoseries` and `GeoDataFrame`\n",
    "\n",
    "Core data structure of GeoPandas is `geopandas.GeoDataFrame`\n",
    "\n",
    "`geopandas.GeoDataFrame` = think of it as a `pandas.DataFrame` with a dedicated geometry column.\n",
    "\n",
    "The **geometry column** in a `gpd.GeoDataFrame` holds the geometry (point, polygon, etc) of each spatial feature. This column is of type `geopandas.GeoSeries`.\n",
    "\n",
    "The other non-geometry columns in the geodataframe are our usual `pd.Series` type."
   ]
  },
  {
   "cell_type": "code",
   "execution_count": 5,
   "id": "4d958e88-47a0-49ca-bc2f-89b5d403cbb8",
   "metadata": {
    "tags": []
   },
   "outputs": [
    {
     "name": "stdout",
     "output_type": "stream",
     "text": [
      "<class 'geopandas.geodataframe.GeoDataFrame'>\n",
      "<class 'geopandas.geoseries.GeoSeries'>\n",
      "<class 'pandas.core.series.Series'>\n"
     ]
    }
   ],
   "source": [
    "# type of pigs dataframe\n",
    "print(type(pigs))\n",
    "\n",
    "# type of the geometry column\n",
    "print(type(pigs.geometry))\n",
    "\n",
    "# type of the gbifID column\n",
    "print(type(pigs.gbifID))"
   ]
  },
  {
   "cell_type": "markdown",
   "id": "95e87a84-e37e-46f9-aab3-31a75171cc20",
   "metadata": {},
   "source": [
    "The new data type of the geometry column is reflected in the `dtypes`"
   ]
  },
  {
   "cell_type": "code",
   "execution_count": 6,
   "id": "179a754b-b098-4b6d-b317-b344e9dc2af9",
   "metadata": {
    "tags": []
   },
   "outputs": [
    {
     "data": {
      "text/plain": [
       "gbifID           int64\n",
       "species         object\n",
       "state           object\n",
       "individual     float64\n",
       "day            float64\n",
       "month          float64\n",
       "year           float64\n",
       "inst            object\n",
       "collection      object\n",
       "catalogNum      object\n",
       "identified      object\n",
       "geometry      geometry\n",
       "dtype: object"
      ]
     },
     "execution_count": 6,
     "metadata": {},
     "output_type": "execute_result"
    }
   ],
   "source": [
    "# check the data type of the columns\n",
    "pigs.dtypes"
   ]
  },
  {
   "cell_type": "markdown",
   "id": "2fc59498-1cec-4a05-b44f-d83bc8f946f7",
   "metadata": {},
   "source": [
    "## Geometric information \n",
    "\n",
    "Two other important attributes of a `gpd.GeoDataFrame` are its coordinate reference system (CRS) and its extent. \n",
    "\n",
    "Think of the CRS as instructions to locate each feature on the surface of the Earth.\n",
    "\n",
    "We can access the CRS of the geo-dataframe using the `crs` attribute:"
   ]
  },
  {
   "cell_type": "code",
   "execution_count": 7,
   "id": "16672ecf-89fd-4639-bd82-23f3f70c668b",
   "metadata": {
    "tags": []
   },
   "outputs": [
    {
     "data": {
      "text/plain": [
       "<Geographic 2D CRS: EPSG:4326>\n",
       "Name: WGS 84\n",
       "Axis Info [ellipsoidal]:\n",
       "- Lat[north]: Geodetic latitude (degree)\n",
       "- Lon[east]: Geodetic longitude (degree)\n",
       "Area of Use:\n",
       "- name: World\n",
       "- bounds: (-180.0, -90.0, 180.0, 90.0)\n",
       "Datum: World Geodetic System 1984\n",
       "- Ellipsoid: WGS 84\n",
       "- Prime Meridian: Greenwich"
      ]
     },
     "execution_count": 7,
     "metadata": {},
     "output_type": "execute_result"
    }
   ],
   "source": [
    "# access CRS\n",
    "pigs.crs"
   ]
  },
  {
   "cell_type": "markdown",
   "id": "2f3ee7c3-4054-44fb-90b3-31d3865fb962",
   "metadata": {},
   "source": [
    "The **extent** of the geo-dataframe is the bounding box covering *all* of the features in our geo-dataframe.\n",
    "\n",
    "We access information to create the extent of a geo-dataframe using the `total_bounds` attribute"
   ]
  },
  {
   "cell_type": "code",
   "execution_count": 8,
   "id": "04e82509-c1fc-4468-b205-92d8aac7b302",
   "metadata": {
    "tags": []
   },
   "outputs": [
    {
     "data": {
      "text/plain": [
       "array([-124.29448 ,   32.593433, -115.4356  ,   40.934296])"
      ]
     },
     "execution_count": 8,
     "metadata": {},
     "output_type": "execute_result"
    }
   ],
   "source": [
    "pigs.total_bounds"
   ]
  },
  {
   "cell_type": "markdown",
   "id": "79d471b5-1e19-421d-ad9b-366ffe70a6d9",
   "metadata": {},
   "source": [
    "## Data Wrangling\n",
    "\n",
    "Geopandas is built on top of `pandas`, so (almost) everything we have learned about wrangling pandas data, still applies here.\n",
    "\n",
    "**Example** \n",
    "\n",
    "We only want to use recent data for the wild pig observations."
   ]
  },
  {
   "cell_type": "code",
   "execution_count": 9,
   "id": "11e6a73a-e316-422e-951a-28eae6cce34b",
   "metadata": {
    "tags": []
   },
   "outputs": [
    {
     "data": {
      "text/plain": [
       "1818.0     31\n",
       "1910.0      1\n",
       "1925.0      1\n",
       "1927.0      4\n",
       "1929.0      3\n",
       "         ... \n",
       "2019.0    101\n",
       "2020.0    159\n",
       "2021.0    164\n",
       "2022.0    185\n",
       "2023.0     98\n",
       "Name: year, Length: 61, dtype: int64"
      ]
     },
     "execution_count": 9,
     "metadata": {},
     "output_type": "execute_result"
    }
   ],
   "source": [
    "# what years do we have?\n",
    "pigs.year.value_counts().sort_index()"
   ]
  },
  {
   "cell_type": "markdown",
   "id": "441a9652-e09f-4380-86b6-c49d486e4f2e",
   "metadata": {},
   "source": [
    "We can use our usual data selection"
   ]
  },
  {
   "cell_type": "code",
   "execution_count": 11,
   "id": "6271f21f-9aed-4470-bc3c-4d6c7a0e0de1",
   "metadata": {
    "tags": []
   },
   "outputs": [
    {
     "name": "stdout",
     "output_type": "stream",
     "text": [
      "1046\n",
      "606\n"
     ]
    },
    {
     "data": {
      "text/html": [
       "<div>\n",
       "<style scoped>\n",
       "    .dataframe tbody tr th:only-of-type {\n",
       "        vertical-align: middle;\n",
       "    }\n",
       "\n",
       "    .dataframe tbody tr th {\n",
       "        vertical-align: top;\n",
       "    }\n",
       "\n",
       "    .dataframe thead th {\n",
       "        text-align: right;\n",
       "    }\n",
       "</style>\n",
       "<table border=\"1\" class=\"dataframe\">\n",
       "  <thead>\n",
       "    <tr style=\"text-align: right;\">\n",
       "      <th></th>\n",
       "      <th>gbifID</th>\n",
       "      <th>species</th>\n",
       "      <th>state</th>\n",
       "      <th>individual</th>\n",
       "      <th>day</th>\n",
       "      <th>month</th>\n",
       "      <th>year</th>\n",
       "      <th>inst</th>\n",
       "      <th>collection</th>\n",
       "      <th>catalogNum</th>\n",
       "      <th>identified</th>\n",
       "      <th>geometry</th>\n",
       "    </tr>\n",
       "  </thead>\n",
       "  <tbody>\n",
       "    <tr>\n",
       "      <th>61</th>\n",
       "      <td>4424675671</td>\n",
       "      <td>Sus scrofa</td>\n",
       "      <td>California</td>\n",
       "      <td>NaN</td>\n",
       "      <td>23.0</td>\n",
       "      <td>9.0</td>\n",
       "      <td>2023.0</td>\n",
       "      <td>iNaturalist</td>\n",
       "      <td>Observations</td>\n",
       "      <td>186357811</td>\n",
       "      <td>madamcoyote</td>\n",
       "      <td>POINT (-124.28580 40.32482)</td>\n",
       "    </tr>\n",
       "    <tr>\n",
       "      <th>62</th>\n",
       "      <td>4424357894</td>\n",
       "      <td>Sus scrofa</td>\n",
       "      <td>California</td>\n",
       "      <td>NaN</td>\n",
       "      <td>6.0</td>\n",
       "      <td>10.0</td>\n",
       "      <td>2023.0</td>\n",
       "      <td>iNaturalist</td>\n",
       "      <td>Observations</td>\n",
       "      <td>186474363</td>\n",
       "      <td>skullroy</td>\n",
       "      <td>POINT (-120.82724 35.34895)</td>\n",
       "    </tr>\n",
       "    <tr>\n",
       "      <th>63</th>\n",
       "      <td>4424357588</td>\n",
       "      <td>Sus scrofa</td>\n",
       "      <td>California</td>\n",
       "      <td>NaN</td>\n",
       "      <td>5.0</td>\n",
       "      <td>10.0</td>\n",
       "      <td>2023.0</td>\n",
       "      <td>iNaturalist</td>\n",
       "      <td>Observations</td>\n",
       "      <td>186333783</td>\n",
       "      <td>Brian Ahern</td>\n",
       "      <td>POINT (-121.71683 37.34602)</td>\n",
       "    </tr>\n",
       "    <tr>\n",
       "      <th>64</th>\n",
       "      <td>4424288359</td>\n",
       "      <td>Sus scrofa</td>\n",
       "      <td>California</td>\n",
       "      <td>NaN</td>\n",
       "      <td>7.0</td>\n",
       "      <td>10.0</td>\n",
       "      <td>2023.0</td>\n",
       "      <td>iNaturalist</td>\n",
       "      <td>Observations</td>\n",
       "      <td>186602594</td>\n",
       "      <td>Steph</td>\n",
       "      <td>POINT (-119.62832 37.28900)</td>\n",
       "    </tr>\n",
       "    <tr>\n",
       "      <th>65</th>\n",
       "      <td>4424285723</td>\n",
       "      <td>Sus scrofa</td>\n",
       "      <td>California</td>\n",
       "      <td>NaN</td>\n",
       "      <td>5.0</td>\n",
       "      <td>10.0</td>\n",
       "      <td>2023.0</td>\n",
       "      <td>iNaturalist</td>\n",
       "      <td>Observations</td>\n",
       "      <td>186479844</td>\n",
       "      <td>natleecrockett</td>\n",
       "      <td>POINT (-121.77317 37.50025)</td>\n",
       "    </tr>\n",
       "  </tbody>\n",
       "</table>\n",
       "</div>"
      ],
      "text/plain": [
       "        gbifID     species       state  individual   day  month    year  \\\n",
       "61  4424675671  Sus scrofa  California         NaN  23.0    9.0  2023.0   \n",
       "62  4424357894  Sus scrofa  California         NaN   6.0   10.0  2023.0   \n",
       "63  4424357588  Sus scrofa  California         NaN   5.0   10.0  2023.0   \n",
       "64  4424288359  Sus scrofa  California         NaN   7.0   10.0  2023.0   \n",
       "65  4424285723  Sus scrofa  California         NaN   5.0   10.0  2023.0   \n",
       "\n",
       "           inst    collection catalogNum      identified  \\\n",
       "61  iNaturalist  Observations  186357811     madamcoyote   \n",
       "62  iNaturalist  Observations  186474363        skullroy   \n",
       "63  iNaturalist  Observations  186333783     Brian Ahern   \n",
       "64  iNaturalist  Observations  186602594           Steph   \n",
       "65  iNaturalist  Observations  186479844  natleecrockett   \n",
       "\n",
       "                       geometry  \n",
       "61  POINT (-124.28580 40.32482)  \n",
       "62  POINT (-120.82724 35.34895)  \n",
       "63  POINT (-121.71683 37.34602)  \n",
       "64  POINT (-119.62832 37.28900)  \n",
       "65  POINT (-121.77317 37.50025)  "
      ]
     },
     "execution_count": 11,
     "metadata": {},
     "output_type": "execute_result"
    }
   ],
   "source": [
    "# select data from 2020 onwards\n",
    "pigs_recent = pigs[pigs.year>=2020]\n",
    "\n",
    "# print length of original dataframe\n",
    "print(len(pigs))\n",
    "\n",
    "# print length of subset\n",
    "print(len(pigs_recent))\n",
    "\n",
    "pigs_recent.head()"
   ]
  },
  {
   "cell_type": "markdown",
   "id": "b3b322bf-3e3a-42aa-9551-ee8284ca268f",
   "metadata": {},
   "source": [
    "# Plotting\n",
    "\n",
    "### `plot()`\n",
    "\n",
    "`gpd.GeoDataFrame` has a `plot()` method that we can call directly to create a quick view of the data.\n",
    "The geospatial information of the `gpd.GeoDataFrame` will be used to create the aces of the plot\n",
    "\n",
    "\n",
    "**Example**\n",
    "\n",
    "Quick plot "
   ]
  },
  {
   "cell_type": "code",
   "execution_count": 12,
   "id": "970a1de2-3893-482c-9fc1-78fbf0a9339d",
   "metadata": {
    "tags": []
   },
   "outputs": [
    {
     "data": {
      "text/plain": [
       "<AxesSubplot:>"
      ]
     },
     "execution_count": 12,
     "metadata": {},
     "output_type": "execute_result"
    },
    {
     "data": {
      "image/png": "[encoded data removed]",
      "text/plain": [
       "<Figure size 640x480 with 1 Axes>"
      ]
     },
     "metadata": {},
     "output_type": "display_data"
    }
   ],
   "source": [
    "# take a look at the data\n",
    "pigs_recent.plot()"
   ]
  },
  {
   "cell_type": "markdown",
   "id": "8b9481ec-57c4-4be0-8b39-087312f04a08",
   "metadata": {},
   "source": [
    "### `matplotlib`'s `fig` and `ax`\n",
    "\n",
    "We use `matplotlib` to create more complex, customize graphs. In particular, maps.\n",
    "\n",
    "We can interact with `matplotlib` via its `pyplot` interface, which we imported as \n",
    "```python\n",
    "import matplotlib.pyplot as plt\n",
    "```\n",
    "\n",
    "Matplotlib graphs the data in a **figure** which can have one or more **axes**.\n",
    "The axis is *only* the area specified by the x-y axis and what is plotted in it. \n",
    "To initialize a blank figure:\n",
    "\n",
    "1. Initialize a blank figure and axes by calling `pyplot`'s `subplots()` function. and\n",
    "2. Show the graph using `plt.show()`"
   ]
  },
  {
   "cell_type": "code",
   "execution_count": 14,
   "id": "6fad021b-fbd5-4c4f-8f25-287eeee95537",
   "metadata": {
    "tags": []
   },
   "outputs": [
    {
     "data": {
      "text/plain": [
       "<function matplotlib.pyplot.show(close=None, block=None)>"
      ]
     },
     "execution_count": 14,
     "metadata": {},
     "output_type": "execute_result"
    },
    {
     "data": {
      "image/png": "[encoded data removed]",
      "text/plain": [
       "<Figure size 640x480 with 1 Axes>"
      ]
     },
     "metadata": {},
     "output_type": "display_data"
    }
   ],
   "source": [
    "# create a blank figure (fig) and an empty axis (ax)\n",
    "\n",
    "fig, ax = plt.subplots()\n",
    "\n",
    "# display figure\n",
    "plt.show"
   ]
  },
  {
   "cell_type": "markdown",
   "id": "a1899517-ee43-4f58-a021-7dbe92c0d8ae",
   "metadata": {},
   "source": [
    "## Adding a layer\n",
    "\n",
    "When using `matplotlib` it can be useful to think of creating a plot, as adding layers to an axis.\n",
    "\n",
    "The general syntax to plot a dataframe `df` onto an axis is:\n",
    "```python\n",
    "# create a new figure\n",
    "fig, ax = plt.subplots()\n",
    "\n",
    "# plot df on teh ax axis\n",
    "df.plot(ax = ax,\n",
    "       ...)\n",
    "\n",
    "# display figure\n",
    "plt.show()\n",
    "```\n",
    "\n",
    "**Example**\n",
    "\n",
    "The first layer we want to add to our axis is the `pigs_recent` point data."
   ]
  },
  {
   "cell_type": "code",
   "execution_count": 15,
   "id": "b379072e-e24a-48e8-b413-46ec87a6956e",
   "metadata": {
    "tags": []
   },
   "outputs": [
    {
     "data": {
      "image/png": "[encoded data removed]",
      "text/plain": [
       "<Figure size 640x480 with 1 Axes>"
      ]
     },
     "metadata": {},
     "output_type": "display_data"
    }
   ],
   "source": [
    "# create a new figure and axis\n",
    "fig, ax = plt.subplots()\n",
    "\n",
    "# add pigs point plot to our figure's axis\n",
    "pigs_recent.plot(ax = ax)\n",
    "\n",
    "# display figure\n",
    "plt.show()"
   ]
  },
  {
   "cell_type": "markdown",
   "id": "1d719523-162f-4fdd-a9fa-8ef9f0a5158d",
   "metadata": {},
   "source": [
    "### Customization\n",
    "\n",
    "Matplotlib allows for a lot of customization.\n",
    "Some can be done directly in the `plot()` function (like we did with plotting pandas dataframes), while other is done by updating attributes from the axis `ax`.\n",
    "\n",
    "Some basic customization of our pigs data:"
   ]
  },
  {
   "cell_type": "code",
   "execution_count": 18,
   "id": "2d958a7a-7aa1-4817-937d-a80a36e0f264",
   "metadata": {
    "tags": []
   },
   "outputs": [
    {
     "data": {
      "image/png": "[encoded data removed]",
      "text/plain": [
       "<Figure size 640x480 with 1 Axes>"
      ]
     },
     "metadata": {},
     "output_type": "display_data"
    }
   ],
   "source": [
    "# initialize an empty figure\n",
    "fig, ax = plt.subplots()\n",
    "\n",
    "# add data to axis\n",
    "# notice customization happens as arguments in plot()\n",
    "pigs_recent.plot(ax = ax,\n",
    "                alpha = 0.5,\n",
    "                color = 'green')\n",
    "\n",
    "# update the axis\n",
    "# customization separate from the data plotting\n",
    "ax.set_title('Reported \"Sus scrofa\" sightings in CA (2020-2023)')\n",
    "ax.set_xlabel('Longitude')\n",
    "ax.set_ylabel('Latitude')\n",
    "\n",
    "# display figure\n",
    "plt.show()"
   ]
  },
  {
   "cell_type": "markdown",
   "id": "3d49bbf2-f1bd-4124-b62a-e77fcf481fd1",
   "metadata": {},
   "source": [
    "## Exercise\n",
    "\n",
    "1. Open the CA boundary shapefile and store as ca_boundary variable. How many features does it have?\n",
    "2. Add it to the pig sightings graph so that the CA boundary appears behind the points."
   ]
  },
  {
   "cell_type": "code",
   "execution_count": 20,
   "id": "eb225de4-ddd2-423d-9519-26da2b4bcd9a",
   "metadata": {
    "tags": []
   },
   "outputs": [
    {
     "data": {
      "text/html": [
       "<div>\n",
       "<style scoped>\n",
       "    .dataframe tbody tr th:only-of-type {\n",
       "        vertical-align: middle;\n",
       "    }\n",
       "\n",
       "    .dataframe tbody tr th {\n",
       "        vertical-align: top;\n",
       "    }\n",
       "\n",
       "    .dataframe thead th {\n",
       "        text-align: right;\n",
       "    }\n",
       "</style>\n",
       "<table border=\"1\" class=\"dataframe\">\n",
       "  <thead>\n",
       "    <tr style=\"text-align: right;\">\n",
       "      <th></th>\n",
       "      <th>REGION</th>\n",
       "      <th>DIVISION</th>\n",
       "      <th>STATEFP</th>\n",
       "      <th>STATENS</th>\n",
       "      <th>GEOID</th>\n",
       "      <th>STUSPS</th>\n",
       "      <th>NAME</th>\n",
       "      <th>LSAD</th>\n",
       "      <th>MTFCC</th>\n",
       "      <th>FUNCSTAT</th>\n",
       "      <th>ALAND</th>\n",
       "      <th>AWATER</th>\n",
       "      <th>INTPTLAT</th>\n",
       "      <th>INTPTLON</th>\n",
       "      <th>geometry</th>\n",
       "    </tr>\n",
       "  </thead>\n",
       "  <tbody>\n",
       "    <tr>\n",
       "      <th>0</th>\n",
       "      <td>4</td>\n",
       "      <td>9</td>\n",
       "      <td>06</td>\n",
       "      <td>01779778</td>\n",
       "      <td>06</td>\n",
       "      <td>CA</td>\n",
       "      <td>California</td>\n",
       "      <td>00</td>\n",
       "      <td>G4000</td>\n",
       "      <td>A</td>\n",
       "      <td>403501101370</td>\n",
       "      <td>20466718403</td>\n",
       "      <td>+37.1551773</td>\n",
       "      <td>-119.5434183</td>\n",
       "      <td>MULTIPOLYGON (((-119.63473 33.26545, -119.6363...</td>\n",
       "    </tr>\n",
       "  </tbody>\n",
       "</table>\n",
       "</div>"
      ],
      "text/plain": [
       "  REGION DIVISION STATEFP   STATENS GEOID STUSPS        NAME LSAD  MTFCC  \\\n",
       "0      4        9      06  01779778    06     CA  California   00  G4000   \n",
       "\n",
       "  FUNCSTAT         ALAND       AWATER     INTPTLAT      INTPTLON  \\\n",
       "0        A  403501101370  20466718403  +37.1551773  -119.5434183   \n",
       "\n",
       "                                            geometry  \n",
       "0  MULTIPOLYGON (((-119.63473 33.26545, -119.6363...  "
      ]
     },
     "execution_count": 20,
     "metadata": {},
     "output_type": "execute_result"
    }
   ],
   "source": [
    "# read in data\n",
    "ca_boundary = gpd.read_file('data/ca-boundary/ca-boundary.shp')\n",
    "\n",
    "ca_boundary.head()"
   ]
  },
  {
   "cell_type": "code",
   "execution_count": 21,
   "id": "b31431e8-3988-4650-8b23-583a896f5c60",
   "metadata": {
    "tags": []
   },
   "outputs": [
    {
     "data": {
      "text/plain": [
       "0    MultiPolygon\n",
       "dtype: object"
      ]
     },
     "execution_count": 21,
     "metadata": {},
     "output_type": "execute_result"
    }
   ],
   "source": [
    "# geom_type will show what kind of vector data is stored in each feature of the geometry column\n",
    "ca_boundary.geom_type"
   ]
  },
  {
   "cell_type": "code",
   "execution_count": 22,
   "id": "4eda5254-04a3-405e-8394-22064ee3333d",
   "metadata": {
    "tags": []
   },
   "outputs": [
    {
     "data": {
      "text/plain": [
       "0       Point\n",
       "1       Point\n",
       "2       Point\n",
       "3       Point\n",
       "4       Point\n",
       "        ...  \n",
       "1041    Point\n",
       "1042    Point\n",
       "1043    Point\n",
       "1044    Point\n",
       "1045    Point\n",
       "Length: 1046, dtype: object"
      ]
     },
     "execution_count": 22,
     "metadata": {},
     "output_type": "execute_result"
    }
   ],
   "source": [
    "pigs.geom_type"
   ]
  },
  {
   "cell_type": "code",
   "execution_count": 32,
   "id": "03445c5a-8a92-48fe-84db-71fdc22670e8",
   "metadata": {
    "tags": []
   },
   "outputs": [
    {
     "data": {
      "image/png": "[encoded data removed]",
      "text/plain": [
       "<Figure size 640x480 with 1 Axes>"
      ]
     },
     "metadata": {},
     "output_type": "display_data"
    }
   ],
   "source": [
    "# initialize an empty figure\n",
    "fig, ax = plt.subplots()\n",
    "\n",
    "# add layers\n",
    "ca_boundary.plot(ax = ax, \n",
    "                color = 'none',\n",
    "                edgecolor = \"blue\")\n",
    "pigs_recent.plot(ax = ax,\n",
    "                alpha = 0.5,\n",
    "                color = \"green\")\n",
    "\n",
    "# customization\n",
    "ax.set_title('Reported wild pig sightings in CA')\n",
    "ax.set_xlabel('longitude')\n",
    "ax.set_ylabel('latitude')\n",
    "\n",
    "# display plot\n",
    "plt.show()"
   ]
  },
  {
   "cell_type": "code",
   "execution_count": null,
   "id": "768ea916-2433-4403-baad-fa761933495d",
   "metadata": {},
   "outputs": [],
   "source": []
  }
 ],
 "metadata": {
  "kernelspec": {
   "display_name": "Anaconda 3 (Base)",
   "language": "python",
   "name": "base"
  },
  "language_info": {
   "codemirror_mode": {
    "name": "ipython",
    "version": 3
   },
   "file_extension": ".py",
   "mimetype": "text/x-python",
   "name": "python",
   "nbconvert_exporter": "python",
   "pygments_lexer": "ipython3",
   "version": "3.9.13"
  }
 },
 "nbformat": 4,
 "nbformat_minor": 5
}
